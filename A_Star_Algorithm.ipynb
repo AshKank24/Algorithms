{
 "cells": [
  {
   "cell_type": "markdown",
   "metadata": {
    "id": "tephH9QGoYFp"
   },
   "source": [
    "# **A Star Algorithm**\n",
    "## By Ashirwad Kankaria"
   ]
  },
  {
   "cell_type": "markdown",
   "metadata": {
    "id": "amhtC1HYuQHX"
   },
   "source": [
    "## Assumptions\n",
    "\n",
    "\n",
    "\n",
    "1.   We can move in all the 8 directions given we are in bounds of the matrix.\n",
    "2.   The weights required to travel a block in any direction are same.\n",
    "3.   The nodes 0 in the matrix mean that we can traverse to that node.\n",
    "4.   The nodes 1 in the matrix mean that we cannot traverse to that node\n"
   ]
  },
  {
   "cell_type": "markdown",
   "metadata": {
    "id": "d2xcLjXDosIZ"
   },
   "source": [
    "### Imports"
   ]
  },
  {
   "cell_type": "code",
   "execution_count": 1,
   "metadata": {
    "id": "anKrt2ZrouI7"
   },
   "outputs": [],
   "source": [
    "import math"
   ]
  },
  {
   "cell_type": "markdown",
   "metadata": {
    "id": "mbcuhq3CoxAa"
   },
   "source": [
    "### Function Definitions"
   ]
  },
  {
   "cell_type": "markdown",
   "metadata": {
    "id": "H2DJgmJNo38Z"
   },
   "source": [
    "**Function to Find Heuristics**\n",
    "\n",
    "*For Finding the Heuristics I have used the Euclidian Distance*"
   ]
  },
  {
   "cell_type": "code",
   "execution_count": 2,
   "metadata": {
    "id": "EdvXtQjupDpJ"
   },
   "outputs": [],
   "source": [
    "def find_heu(cur_pos, goal_pos):\n",
    "    h = math.sqrt((cur_pos[0] - goal_pos[0]) ** 2 + (cur_pos[1] - goal_pos[1]) ** 2)\n",
    "    return h"
   ]
  },
  {
   "cell_type": "markdown",
   "metadata": {
    "id": "pLKVi74apOyr"
   },
   "source": [
    "**Function to Find Valid Neighbours and add them to Open List**\n",
    "\n",
    "> Find the Neighbours of the passed node in all the eight directions.\n",
    "\n",
    "\n",
    "> Add the Neighbour to the Open List if the following parameters are met:\n",
    "\n",
    "1.   The Neighbouring node is within the bounds of the matrix.\n",
    "2.   The Neighbouring node is not already present in the closed_list\n",
    "\n",
    "1.   The Neighbouring node is equal to zero indicating a free space"
   ]
  },
  {
   "cell_type": "markdown",
   "metadata": {
    "id": "KeDrttKxxse4"
   },
   "source": [
    "**The A Star Algorithm works on the following formula:**\n",
    "\n",
    "*F[x]=G[x]+H[x]*\n",
    "\n",
    "Here G[x] is given by\n",
    "\n",
    "G[x] = G[x].previous_node + 1 (as the weights are equal for every edge of the graph in this case)\n",
    "\n",
    "H[x] is the heuristic distance which is the approximate distance of the current node from the goal node.\n",
    "\n",
    "Already Calculated in the above Function\n"
   ]
  },
  {
   "cell_type": "code",
   "execution_count": 3,
   "metadata": {
    "id": "Nqyf6wv1pYu9"
   },
   "outputs": [],
   "source": [
    "def find_neighs(cur_pos, map, closed_list, open_list, goal_pos):\n",
    "    for dx, dy in [(-1, -1), (-1, 0), (-1, 1), (0, -1), (0, 1), (1, -1), (1, 0), (1, 1)]:\n",
    "        neigh = [cur_pos[0] + dx, cur_pos[1] + dy]\n",
    "        if 0 <= neigh[0] < len(map) and 0 <= neigh[1] < len(map[0]):\n",
    "            if neigh not in closed_list and map[neigh[0]][neigh[1]] == 0:\n",
    "                g = cur_pos[2] + 1\n",
    "                h = find_heu(neigh, goal_pos)\n",
    "                f = g + h\n",
    "                new_node = neigh + [g, cur_pos, f]\n",
    "                open_list.append(new_node)"
   ]
  },
  {
   "cell_type": "markdown",
   "metadata": {
    "id": "hJatpK3WpbKk"
   },
   "source": [
    "**Function to Reconstruct Path by adding nodes to the path**\n",
    "\n",
    "This Function is used create a list named path and add the nodes followed to the list."
   ]
  },
  {
   "cell_type": "code",
   "execution_count": 12,
   "metadata": {
    "id": "sBDuyRABpnhN"
   },
   "outputs": [],
   "source": [
    "def reconstruct_path(goal_node):\n",
    "    path = []\n",
    "    current_node = goal_node\n",
    "    while current_node is not None:\n",
    "        path.append((current_node[0], current_node[1]))\n",
    "        current_node = current_node[3]\n",
    "    return path[::-1]"
   ]
  },
  {
   "cell_type": "markdown",
   "metadata": {
    "id": "C71LVkYHpqlN"
   },
   "source": [
    "**Function to implement A Star Search Algorithm**\n",
    "\n",
    "> Open List to function as a Priority Queue to find the node with the least F value.\n",
    "\n",
    "> Closed List to function to store the already visited nodes to avoid revisiting them.\n",
    "\n",
    "The Open List is sorted in each iteration according to the value of F.\n",
    "\n",
    "The While loop will terminate in either of two conditions:\n",
    "\n",
    "1. If the Goal Node is reached.\n",
    "2. If the Open List is Empty meaning that all the nodes have been visited and there is no possible path to reach goal node.\n"
   ]
  },
  {
   "cell_type": "code",
   "execution_count": 5,
   "metadata": {
    "id": "_qxyhyw1pzEm"
   },
   "outputs": [],
   "source": [
    "def a_star(start_pos, goal_pos, map):\n",
    "    open_list = []\n",
    "    closed_list = []\n",
    "\n",
    "    start_node = start_pos + [0, None, None]\n",
    "    open_list.append(start_node)\n",
    "\n",
    "    while open_list:\n",
    "        open_list.sort(key=lambda x: x[2])\n",
    "        cur_pos = open_list.pop(0)\n",
    "        closed_list.append(cur_pos)\n",
    "\n",
    "        if cur_pos[0] == goal_pos[0] and cur_pos[1] == goal_pos[1]:\n",
    "            path = reconstruct_path(cur_pos)\n",
    "            return path, cur_pos[2]\n",
    "\n",
    "        find_neighs(cur_pos, map, closed_list, open_list, goal_pos)\n",
    "\n",
    "    return [], \"No path found to the goal\""
   ]
  },
  {
   "cell_type": "markdown",
   "metadata": {
    "id": "Wfa5H3-mqnTh"
   },
   "source": [
    "### Parameters to Set\n",
    "\n",
    "There are three parameters to be set and passed to the A-Star Algorithm:\n",
    "1. map(A Matrix containing the nodes that can and cannot be visited)\n",
    "2. start_pos(Co-ordinates of the starting position)\n",
    "3. goal_pos(Co-ordinates of the Goal position)"
   ]
  },
  {
   "cell_type": "code",
   "execution_count": 8,
   "metadata": {
    "id": "3hrmmZQwqr2b"
   },
   "outputs": [],
   "source": [
    "map = [[0, 0, 0, 0, 0],\n",
    "      [0, 1, 1, 1, 0],\n",
    "      [0, 1, 0, 0, 0],\n",
    "      [0, 1, 1, 1, 0],\n",
    "      [0, 0, 0, 0, 0]]\n",
    "\n",
    "start_pos = [0, 0]\n",
    "goal_pos = [4, 4]"
   ]
  },
  {
   "cell_type": "markdown",
   "metadata": {
    "id": "9DKBVRfHp3vt"
   },
   "source": [
    "### Main Function"
   ]
  },
  {
   "cell_type": "code",
   "execution_count": 10,
   "metadata": {
    "id": "NOMnexWVp7cG"
   },
   "outputs": [],
   "source": [
    "def main():\n",
    "  path, cost = a_star(start_pos, goal_pos, map)\n",
    "  if path:\n",
    "      print(\"Path found:\", path)\n",
    "      print(\"Cost:\", cost)\n",
    "  else:\n",
    "      print(\"No path found to the goal\")"
   ]
  },
  {
   "cell_type": "code",
   "execution_count": 11,
   "metadata": {
    "colab": {
     "base_uri": "https://localhost:8080/"
    },
    "id": "od7-GuctsSD0",
    "outputId": "c15336e2-78c6-4816-942b-54d4a7e03c5c"
   },
   "outputs": [
    {
     "name": "stdout",
     "output_type": "stream",
     "text": [
      "Path found: [(0, 0), (0, 1), (0, 2), (0, 3), (1, 4), (2, 3), (3, 4), (4, 4)]\n",
      "Cost: 7\n"
     ]
    }
   ],
   "source": [
    "main()"
   ]
  }
 ],
 "metadata": {
  "colab": {
   "provenance": []
  },
  "kernelspec": {
   "display_name": "Python 3 (ipykernel)",
   "language": "python",
   "name": "python3"
  },
  "language_info": {
   "codemirror_mode": {
    "name": "ipython",
    "version": 3
   },
   "file_extension": ".py",
   "mimetype": "text/x-python",
   "name": "python",
   "nbconvert_exporter": "python",
   "pygments_lexer": "ipython3",
   "version": "3.8.10"
  }
 },
 "nbformat": 4,
 "nbformat_minor": 4
}
